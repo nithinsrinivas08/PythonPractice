{
 "cells": [
  {
   "cell_type": "code",
   "execution_count": 1,
   "metadata": {},
   "outputs": [
    {
     "name": "stdout",
     "output_type": "stream",
     "text": [
      "2\n",
      "8\n",
      "1\n",
      "9\n",
      "-----\n",
      "4\n",
      "5\n"
     ]
    }
   ],
   "source": [
    "even = [2,4,6,8]\n",
    "odd = [1,3,5,7,9]\n",
    "\n",
    "print(min(even))\n",
    "print(max(even))\n",
    "print(min(odd))\n",
    "print(max(odd))\n",
    "print('-----')\n",
    "print(len(even))\n",
    "print(len(odd))"
   ]
  },
  {
   "cell_type": "code",
   "execution_count": 2,
   "metadata": {},
   "outputs": [
    {
     "name": "stdout",
     "output_type": "stream",
     "text": [
      "4\n"
     ]
    }
   ],
   "source": [
    "print(\"mississippi\".count(\"s\"))"
   ]
  },
  {
   "cell_type": "code",
   "execution_count": 8,
   "metadata": {},
   "outputs": [
    {
     "name": "stdout",
     "output_type": "stream",
     "text": [
      "19 - ['Bellflower - Flower', 'China Pink - Flower', 'Daffodil - Flower', 'Evening Primrose - Flower', 'French Marigold - Flower', 'Iris - Flower', \"Queen Anne's Lace - Flower\", 'Red Hot Poker - Flower', 'Snapdragon - Flower', 'Sunflower - Flower', 'Tiger Lily - Flower']\n",
      "['Andromeda - Shrub', 'Hydrangea - Shrub', 'Japanese Camellia - Shrub', 'Lavender - Shrub', 'Lilac - Shrub', 'Magnolia - Shrub', 'Peony - Shrub', 'Witch Hazel - Shrub']\n"
     ]
    }
   ],
   "source": [
    "data = [\n",
    "    \"Andromeda - Shrub\",\n",
    "    \"Bellflower - Flower\",\n",
    "    \"China Pink - Flower\",\n",
    "    \"Daffodil - Flower\",\n",
    "    \"Evening Primrose - Flower\",\n",
    "    \"French Marigold - Flower\",\n",
    "    \"Hydrangea - Shrub\",\n",
    "    \"Iris - Flower\",\n",
    "    \"Japanese Camellia - Shrub\",\n",
    "    \"Lavender - Shrub\",\n",
    "    \"Lilac - Shrub\",\n",
    "    \"Magnolia - Shrub\",\n",
    "    \"Peony - Shrub\",\n",
    "    \"Queen Anne's Lace - Flower\",\n",
    "    \"Red Hot Poker - Flower\",\n",
    "    \"Snapdragon - Flower\",\n",
    "    \"Sunflower - Flower\",\n",
    "    \"Tiger Lily - Flower\",\n",
    "    \"Witch Hazel - Shrub\",\n",
    "]\n",
    "flowers = []\n",
    "shrub = []\n",
    "for num,plant in enumerate(data) :\n",
    "    if \"Flower\" in plant :\n",
    "        flowers.append(plant)\n",
    "    elif \"Shrub\" in plant :\n",
    "        shrub.append(plant)\n",
    "print(\"{0} - {1}\".format(num+1, flowers))\n",
    "print(shrub)"
   ]
  },
  {
   "cell_type": "markdown",
   "metadata": {},
   "source": [
    "sort() and sorted() functions : \n",
    "sort() will modify the list it is called on where as sorted() creates a new list containing the the sorted version of the list. "
   ]
  },
  {
   "cell_type": "code",
   "execution_count": 17,
   "metadata": {},
   "outputs": [
    {
     "name": "stdout",
     "output_type": "stream",
     "text": [
      "[2, 4, 6, 8, 1, 3, 5, 7, 9]\n",
      "[2, 4, 6, 8, 1, 3, 5, 7, 9]\n",
      "[9, 8, 7, 6, 5, 4, 3, 2, 1]\n",
      "[9, 8, 7, 6, 5, 4, 3, 2, 1]\n"
     ]
    }
   ],
   "source": [
    "even = [2,4,6,8]\n",
    "odd = [1,3,5,7,9]\n",
    "even.extend(odd)\n",
    "print(even)\n",
    "complete_even = even\n",
    "print(complete_even)\n",
    "even.sort(reverse=True)\n",
    "print(even)\n",
    "print(complete_even)"
   ]
  },
  {
   "cell_type": "code",
   "execution_count": 29,
   "metadata": {},
   "outputs": [
    {
     "name": "stdout",
     "output_type": "stream",
     "text": [
      "[' ', ' ', ' ', ' ', ' ', ' ', ' ', ' ', 'T', 'a', 'b', 'c', 'd', 'e', 'e', 'e', 'f', 'g', 'g', 'h', 'h', 'i', 'j', 'k', 'l', 'm', 'n', 'o', 'o', 'o', 'o', 'p', 'q', 'r', 'r', 'r', 's', 't', 'u', 'u', 'v', 'w', 'y', 'z']\n",
      "[1.6, 2.3, 3.1, 4.5, 8.7, 9.2]\n",
      "[2.3, 4.5, 8.7, 3.1, 9.2, 1.6]\n",
      "---------\n",
      "[1.6, 2.3, 3.1, 4.5, 8.7, 9.2]\n",
      "None\n",
      "--------\n",
      "[' ', ' ', ' ', ' ', ' ', ' ', ' ', ' ', 'a', 'b', 'c', 'd', 'd', 'e', 'e', 'e', 'e', 'f', 'g', 'g', 'h', 'h', 'i', 'j', 'k', 'l', 'm', 'n', 'o', 'o', 'o', 'o', 'p', 'q', 'r', 'r', 'r', 'T', 't', 'u', 'u', 'v', 'w', 'y', 'z']\n",
      "----------\n",
      "['eric', 'Graham', 'John', 'michael', 'terry', 'Terry']\n"
     ]
    }
   ],
   "source": [
    "pangram = 'The quick brown frog jumps over the lazy dog'\n",
    "letter = sorted(pangram)\n",
    "print(letter)\n",
    "numbers=[2.3,4.5,8.7,3.1,9.2,1.6]\n",
    "sorted_numbers = sorted(numbers)\n",
    "print(sorted_numbers)\n",
    "print(numbers)\n",
    "print('---------')\n",
    "another_number = numbers.sort()\n",
    "print(numbers)\n",
    "print(another_number)\n",
    "print('--------')\n",
    "missing_letters = sorted('The quick brown frog jumped over the lazy dog', key=str.casefold)\n",
    "print(missing_letters)\n",
    "print('----------')\n",
    "names = ['Graham', 'John', 'terry', 'eric', 'Terry', 'michael']\n",
    "names.sort(key = str.casefold)\n",
    "print(names)"
   ]
  },
  {
   "cell_type": "code",
   "execution_count": 10,
   "metadata": {},
   "outputs": [
    {
     "name": "stdout",
     "output_type": "stream",
     "text": [
      "[2, 4, 6, 8, 1, 3, 5, 7, 9]\n",
      "[1, 2, 3, 4, 5, 6, 7, 8, 9]\n",
      "----------\n",
      "['1', '2', '3', '4', '5', '6', '7', '8', '9']\n",
      "----------\n",
      "['4', '3', '2', '9', '8', '5', '6', '1', '7']\n",
      "----------\n",
      "[2, 4, 6, 8, 1, 3, 5, 7, 9]\n",
      "False\n",
      "True\n"
     ]
    }
   ],
   "source": [
    "empty_list = []\n",
    "even = [2,4,6,8]\n",
    "odd = [1,3,5,7,9]\n",
    "numbers = even + odd\n",
    "print(numbers)\n",
    "sorted_numbers = sorted(numbers)\n",
    "print(sorted_numbers)\n",
    "print('----------')\n",
    "digits = sorted('432985617')\n",
    "print(digits)\n",
    "print('----------')\n",
    "digit = list('432985617')\n",
    "print(digit)\n",
    "print('----------')\n",
    "#more_numbers = list(numbers)\n",
    "more_numbers = numbers[:]\n",
    "print(more_numbers)\n",
    "print(numbers is more_numbers)\n",
    "print(numbers == more_numbers)"
   ]
  },
  {
   "cell_type": "markdown",
   "metadata": {},
   "source": [
    "COPY LIST"
   ]
  },
  {
   "cell_type": "code",
   "execution_count": 14,
   "metadata": {},
   "outputs": [
    {
     "name": "stdout",
     "output_type": "stream",
     "text": [
      "[2, 4, 6, 8, 1, 3, 5, 7, 9]\n",
      "[2, 4, 6, 8, 1, 3, 5, 7, 9]\n",
      "False\n",
      "True\n"
     ]
    }
   ],
   "source": [
    "number = even + odd\n",
    "print(numbers)\n",
    "more_numbers = numbers.copy()\n",
    "print(more_numbers)\n",
    "print(more_numbers is numbers)\n",
    "print(more_numbers == numbers)"
   ]
  },
  {
   "cell_type": "code",
   "execution_count": 18,
   "metadata": {},
   "outputs": [
    {
     "name": "stdout",
     "output_type": "stream",
     "text": [
      "['computer', 'monitor', 'keyboard', 'mouse', 'mouse pad']\n",
      "['computer', 'monitor', 'keyboard', 'trackpad']\n"
     ]
    }
   ],
   "source": [
    "computer_parts = ['computer', 'monitor', 'keyboard', 'mouse', 'mouse pad']\n",
    "print(computer_parts)\n",
    "# computer_parts[3] = 'trackpad'\n",
    "# print(computer_parts)\n",
    "(computer_parts[3:]) = ['trackpad']\n",
    "print(computer_parts)"
   ]
  },
  {
   "cell_type": "markdown",
   "metadata": {},
   "source": [
    "DELETING AN ITEM FROM THE LIST"
   ]
  },
  {
   "cell_type": "code",
   "execution_count": 6,
   "metadata": {},
   "outputs": [
    {
     "name": "stdout",
     "output_type": "stream",
     "text": [
      "2\n",
      "[104, 105, 110, 120, 130, 150, 213, 234, 2345, 1234, 3200, 3454]\n",
      "8\n",
      "[104, 105, 110, 120, 130, 150, 213, 234]\n"
     ]
    }
   ],
   "source": [
    "data = [4,5,104,105,110,120,130,150,213,234,2345,1234,3200,3454]\n",
    "min_valid = 100\n",
    "max_valid = 300\n",
    "\n",
    "stop = 0\n",
    "for index, value in enumerate(data) :\n",
    "    if value >= min_valid :\n",
    "        stop = index\n",
    "        break\n",
    "print(stop)\n",
    "del data[:stop]\n",
    "print(data)\n",
    "\n",
    "start = 0\n",
    "for index in range(len(data) -1,-1,-1) :\n",
    "    if data[index] <= max_valid :\n",
    "        start = index + 1\n",
    "        break\n",
    "\n",
    "print(start)\n",
    "del data[start:]\n",
    "print(data)\n"
   ]
  },
  {
   "cell_type": "markdown",
   "metadata": {},
   "source": [
    "BACKWARDS"
   ]
  },
  {
   "cell_type": "code",
   "execution_count": 10,
   "metadata": {},
   "outputs": [
    {
     "name": "stdout",
     "output_type": "stream",
     "text": [
      "13 [4, 5, 104, 105, 110, 120, 130, 150, 213, 234, 2345, 1234, 3200, 3454]\n",
      "12 [4, 5, 104, 105, 110, 120, 130, 150, 213, 234, 2345, 1234, 3200]\n",
      "11 [4, 5, 104, 105, 110, 120, 130, 150, 213, 234, 2345, 1234]\n",
      "10 [4, 5, 104, 105, 110, 120, 130, 150, 213, 234, 2345]\n",
      "9 [4, 5, 104, 105, 110, 120, 130, 150, 213, 234]\n",
      "8 [4, 5, 104, 105, 110, 120, 130, 150, 213]\n",
      "7 [4, 5, 104, 105, 110, 120, 130, 150]\n",
      "6 [4, 5, 104, 105, 110, 120, 130]\n",
      "5 [4, 5, 104, 105, 110, 120]\n",
      "4 [4, 5, 104, 105, 110]\n",
      "3 [4, 5, 104, 105]\n",
      "2 [4, 5, 104]\n",
      "1 [4, 5]\n",
      "0 [4]\n",
      "[] 0\n"
     ]
    }
   ],
   "source": [
    "data = [4,5,104,105,110,120,130,150,213,234,2345,1234,3200,3454]\n",
    "min_valid = 10\n",
    "max_valid = 100\n",
    "for index in range(len(data)-1,-1,-1) :\n",
    "    if data[index]<= min_valid or data[index]>=max_valid :\n",
    "        print(index,data)\n",
    "        del data[index]\n",
    "print(data,len(data))\n",
    "\n",
    "for index, value in enumerate(reversed(data)) :\n",
    "    print(index, value)\n",
    "\n",
    "print(data)"
   ]
  },
  {
   "cell_type": "code",
   "execution_count": 5,
   "metadata": {},
   "outputs": [
    {
     "name": "stdout",
     "output_type": "stream",
     "text": [
      "13 3454\n",
      "12 3200\n",
      "11 1234\n",
      "10 2345\n",
      "9 234\n",
      "8 213\n",
      "1 5\n",
      "0 4\n",
      "[104, 105, 110, 120, 130, 150]\n"
     ]
    }
   ],
   "source": [
    "data = [4,5,104,105,110,120,130,150,213,234,2345,1234,3200,3454]\n",
    "min_valid = 10\n",
    "max_valid = 200\n",
    "top_index = len(data) -1 \n",
    "for index,value in enumerate(reversed(data)) :\n",
    "    if value<min_valid or value>max_valid :\n",
    "        print(top_index-index, value)\n",
    "        del data[top_index-index]\n",
    "print(data)"
   ]
  },
  {
   "cell_type": "code",
   "execution_count": 9,
   "metadata": {},
   "outputs": [
    {
     "name": "stdout",
     "output_type": "stream",
     "text": [
      "[0, 1, 2, 3, 4, 5, 6, 7, 8, 9, 10, 11, 12, 13, 14, 15, 16, 17, 18, 19, 20, 21, 22, 23, 24, 25, 26, 27, 28, 29, 30, 31, 32, 33, 34, 35, 36, 37, 38, 39, 40, 41, 42, 43, 44, 45, 46, 47, 48, 49, 50, 51, 52, 53, 54, 55, 56, 57, 58, 59, 60, 61, 62, 63, 64, 65, 66, 67, 68, 69, 70, 71, 72, 73, 74, 75, 76, 77, 78, 79, 80, 81, 82, 83, 84, 85, 86, 87, 88, 89, 90, 91, 92, 93, 94, 95, 96, 97, 98, 99]\n"
     ]
    }
   ],
   "source": [
    "max_value = 100\n",
    "data_list = list(range(max_value))\n",
    "print(data_list)"
   ]
  },
  {
   "cell_type": "markdown",
   "metadata": {},
   "source": [
    "NESTED LIST"
   ]
  },
  {
   "cell_type": "code",
   "execution_count": 10,
   "metadata": {},
   "outputs": [
    {
     "name": "stdout",
     "output_type": "stream",
     "text": [
      "[[2, 4, 6, 8], [1, 3, 5, 7, 9]]\n",
      "[2, 4, 6, 8]\n",
      "2\n",
      "4\n",
      "6\n",
      "8\n",
      "[1, 3, 5, 7, 9]\n",
      "1\n",
      "3\n",
      "5\n",
      "7\n",
      "9\n"
     ]
    }
   ],
   "source": [
    "empty_list = []\n",
    "even = [2,4,6,8]\n",
    "odd = [1,3,5,7,9]\n",
    "numbers = [even, odd]\n",
    "print(numbers)\n",
    "for number_list in numbers :\n",
    "    print(number_list)\n",
    "    for value in number_list :\n",
    "        print(value)"
   ]
  },
  {
   "cell_type": "code",
   "execution_count": 13,
   "metadata": {},
   "outputs": [
    {
     "name": "stdout",
     "output_type": "stream",
     "text": [
      "['egg', 'bacon']\n",
      "['egg', 'sausage', 'bacon']\n"
     ]
    }
   ],
   "source": [
    "menu = [\n",
    "    [\"egg\", \"bacon\"],\n",
    "    [\"egg\", \"sausage\", \"bacon\"],\n",
    "    [\"egg\", \"spam\"],\n",
    "    [\"egg\", \"bacon\", \"spam\"],\n",
    "    [\"spam\", \"spam\", \"spamegg\"],\n",
    "]\n",
    "for item in menu :\n",
    "    if 'spam' in item :\n",
    "       del item\n",
    "    else :\n",
    "        print(item)\n",
    "\n"
   ]
  },
  {
   "cell_type": "markdown",
   "metadata": {},
   "source": [
    "PRINT FUNCTION"
   ]
  },
  {
   "cell_type": "code",
   "execution_count": null,
   "metadata": {},
   "outputs": [],
   "source": [
    "name = 'Nithin'\n",
    "age = 30\n",
    "print(name,age,\"Python\",2023)"
   ]
  },
  {
   "cell_type": "markdown",
   "metadata": {},
   "source": [
    "JOIN FUNCTION"
   ]
  },
  {
   "cell_type": "code",
   "execution_count": 2,
   "metadata": {},
   "outputs": [
    {
     "name": "stdout",
     "output_type": "stream",
     "text": [
      "Daffodil | Evening Primrose | Hydrangea | Iris | Lavender | Sunflower | Tiger Lily\n"
     ]
    }
   ],
   "source": [
    "flowers = [\n",
    "    \"Daffodil\",\n",
    "    \"Evening Primrose\",\n",
    "    \"Hydrangea\",\n",
    "    \"Iris\",\n",
    "    \"Lavender\",\n",
    "    \"Sunflower\",\n",
    "    \"Tiger Lily\",\n",
    "]\n",
    "\n",
    "seperator = ' | '\n",
    "output = seperator.join(flowers)\n",
    "print(output)\n"
   ]
  },
  {
   "cell_type": "markdown",
   "metadata": {},
   "source": [
    "TUPLES"
   ]
  },
  {
   "cell_type": "code",
   "execution_count": 5,
   "metadata": {},
   "outputs": [
    {
     "name": "stdout",
     "output_type": "stream",
     "text": [
      "Album: Welcome to my Nightmare, Artist: Alice Cooper, Year: 1975\n",
      "Album: Bad Company, Artist: Bad Company, Year: 1974\n",
      "Album: Nightflight, Artist: Budgie, Year: 1981\n",
      "Album: More Mayhem, Artist: Emilda May, Year: 2011\n",
      "Album: Ride the Lightning, Artist: Metallica, Year: 1984\n"
     ]
    }
   ],
   "source": [
    "albums = [(\"Welcome to my Nightmare\", \"Alice Cooper\", 1975),\n",
    "          (\"Bad Company\", \"Bad Company\", 1974),\n",
    "          (\"Nightflight\", \"Budgie\", 1981),\n",
    "          (\"More Mayhem\", \"Emilda May\", 2011),\n",
    "          (\"Ride the Lightning\", \"Metallica\", 1984)]\n",
    "\n",
    "for name,artist,year in albums : \n",
    "    print('Album: {}, Artist: {}, Year: {}'.format(name,artist,year))"
   ]
  },
  {
   "cell_type": "code",
   "execution_count": 2,
   "metadata": {},
   "outputs": [
    {
     "name": "stdout",
     "output_type": "stream",
     "text": [
      "1\n",
      "2\n",
      "45\n"
     ]
    }
   ],
   "source": [
    "data = 1,2,45\n",
    "x,y,z = data\n",
    "print(x)\n",
    "print(y)\n",
    "print(z)"
   ]
  },
  {
   "cell_type": "markdown",
   "metadata": {},
   "source": [
    "NESTED TUPLE"
   ]
  },
  {
   "cell_type": "code",
   "execution_count": 17,
   "metadata": {},
   "outputs": [
    {
     "name": "stdout",
     "output_type": "stream",
     "text": [
      "Album: Welcome to my nightmare, Artist: Metallica, Year: 1975, Songs: [(1, 'Welcome to my nightmare'), (2, \"Devil's food\"), (3, 'The Black widow'), (4, 'Samo Folks'), (5, 'Only Women Bleed')]\n",
      "Album: Bad Comapny, Artist: Metallica, Year: 1974, Songs: [(1, 'Cant get enough'), (2, 'Rock Steady'), (3, 'Ready For Love'), (4, 'Doint let me down'), (5, 'Bad Company'), (6, 'The way i choose'), (7, 'Movin on'), (8, 'Swagull')]\n",
      "\n",
      "('Bad Comapny', 'Bad Company', 1974, [(1, 'Cant get enough'), (2, 'Rock Steady'), (3, 'Ready For Love'), (4, 'Doint let me down'), (5, 'Bad Company'), (6, 'The way i choose'), (7, 'Movin on'), (8, 'Swagull')])\n",
      "[(1, 'Cant get enough'), (2, 'Rock Steady'), (3, 'Ready For Love'), (4, 'Doint let me down'), (5, 'Bad Company'), (6, 'The way i choose'), (7, 'Movin on'), (8, 'Swagull')]\n",
      "(2, 'Rock Steady')\n",
      "Rock Steady\n",
      "----------\n",
      "Rock Steady\n"
     ]
    }
   ],
   "source": [
    "albums = [(\"Welcome to my nightmare\", \"Alice Cooper\", 1975,\n",
    "           [(1, \"Welcome to my nightmare\"),\n",
    "            (2, \"Devil's food\"),\n",
    "            (3, \"The Black widow\"),\n",
    "            (4, \"Samo Folks\"),\n",
    "            (5, \"Only Women Bleed\")\n",
    "           ]\n",
    "          ),\n",
    "          (\"Bad Comapny\", \"Bad Company\", 1974,\n",
    "           [(1, \"Cant get enough\"),\n",
    "            (2, \"Rock Steady\"),\n",
    "            (3, \"Ready For Love\"),\n",
    "            (4, \"Doint let me down\"),\n",
    "            (5, \"Bad Company\"),\n",
    "            (6, \"The way i choose\"),\n",
    "            (7, \"Movin on\"),\n",
    "            (8, \"Swagull\")\n",
    "           ]\n",
    "          ),\n",
    "         ]\n",
    "\n",
    "for name,atrist,year,songs in albums :\n",
    "    print('Album: {}, Artist: {}, Year: {}, Songs: {}'.format(name,artist,year,songs))\n",
    "\n",
    "print()\n",
    "album = albums[1]\n",
    "print(album)\n",
    "songs = album[3]\n",
    "print(songs)\n",
    "song = songs[1]\n",
    "print(song)\n",
    "song_name = song[1]\n",
    "print(song_name)\n",
    "print('----------')\n",
    "rock_steady = albums[1][3][1][1]\n",
    "print(rock_steady)"
   ]
  }
 ],
 "metadata": {
  "kernelspec": {
   "display_name": ".venv",
   "language": "python",
   "name": "python3"
  },
  "language_info": {
   "codemirror_mode": {
    "name": "ipython",
    "version": 3
   },
   "file_extension": ".py",
   "mimetype": "text/x-python",
   "name": "python",
   "nbconvert_exporter": "python",
   "pygments_lexer": "ipython3",
   "version": "3.11.3"
  }
 },
 "nbformat": 4,
 "nbformat_minor": 2
}
